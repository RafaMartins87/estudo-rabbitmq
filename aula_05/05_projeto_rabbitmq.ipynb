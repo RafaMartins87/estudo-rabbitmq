{
 "cells": [
  {
   "attachments": {},
   "cell_type": "markdown",
   "metadata": {},
   "source": [
    "# Projeto: RabbitMQ"
   ]
  },
  {
   "attachments": {},
   "cell_type": "markdown",
   "metadata": {},
   "source": [
    "Vamos simular produção, envio e consumo de mensagens numa empresa onde o departamento de dados criou uma arquitetura para esse fim com RabbitMQ. Nessa estrutura, os departamentos são livres para decidir quais informações serão compartilhadas e o modo como isso acontecerá. É importante salientar que os departamentos também possuem funcionários dedicados à dados e as decisões sobre o modo de compartilhamento foram tomadas com base na análise de anos de pedidos recebidos por cada departamento."
   ]
  },
  {
   "attachments": {},
   "cell_type": "markdown",
   "metadata": {},
   "source": [
    "## Produtores"
   ]
  },
  {
   "attachments": {},
   "cell_type": "markdown",
   "metadata": {},
   "source": [
    "Os departamentos, dados compartilhados e modo de compartilhamento são:\n",
    "\n",
    "*  P1: `IT`\n",
    "      1. Todos os logs são publicados no modo *fanout*.\n",
    "      2. Todos erros de alta prioridade em aberto são publicados no modo *topic*, rota *department.category.priority.status*.\n",
    "\n",
    "* P2: `SALES`\n",
    "    1. Todos orçamentos  são publicados no modo *direct*, rota *orcamentos*.\n",
    "    2. Todas ordens de compra  são publicados no modo *direct*, rota *ordens*.\n",
    "\n",
    "* P3: `MKT`\n",
    "    1. Eventos importantes (prioridade alta) são publicados no modo *direct*, rota *eventos_importantes*.\n",
    "    2. Todas as promoções são publicadas no modo *topic*, rota *department.category.priority*.\n",
    "\n",
    "* P4: `RH`\n",
    "    1. Todos os eventos são publicados no modo *fanout*.\n",
    "    2. Eventos importantes (prioridade alta) são publicados no modo *direct*, rota *eventos_importantes*.\n",
    "    3. Todas as movimentações são publicadas no modo *topic*, rota *department.category.priority*."
   ]
  },
  {
   "attachments": {},
   "cell_type": "markdown",
   "metadata": {},
   "source": [
    "## Arquitetura"
   ]
  },
  {
   "attachments": {},
   "cell_type": "markdown",
   "metadata": {},
   "source": [
    "A arquitetura consiste de um servidor RabbitMq hospedado em `localhost`, que suporta três *exchanges* e XXX filas.\n",
    "\n",
    "### Exchanges\n",
    "\n",
    "* E1: `fanout`\n",
    "  1. nome: exchange_fanout\n",
    "  2. tipo: fanout\n",
    "* E2: `direct`\n",
    "  1. nome: exchange_direct\n",
    "  2. tipo: direct\n",
    "* E3: `topic`\n",
    "  1. nome: exchange_topic\n",
    "  2. tipo: topic\n",
    "\n",
    "\n",
    "### Filas"
   ]
  },
  {
   "attachments": {},
   "cell_type": "markdown",
   "metadata": {},
   "source": [
    "As filas que fazem parte da arquitetura foram criadas para garantir a entrega das mensagens a certos destinatários.  Para isso, elas devem ser à prova de falhas.\n",
    "\n",
    "* Q1: `informacoes_criticas`  \n",
    "  1. Criada para **garantir** que as mensagens de alta prioridade e abertas oriundas de TI **sejam entregues** ao time de gerentes de projetos, permitindo que eles tenham tempo suficiente para reagir às informações. \n",
    "  2. Um time processa todas as informações.\n",
    "* Q2: `participacao_obrigatoria`  \n",
    "  1. Criada para garantir que que os lideres de cada departamento sejam notificados dos eventos que devem participar. \n",
    "  2. Cada líder recebe sua mensagem. \n",
    "* Q3: `compras`\n",
    "  1. Criada para operações do time de Sales de forma a organizar a execução das  tarefas, essa fila garante que nenhum pedido seja perdido.\n",
    "  2. Um time recebe todas as informações.\n",
    "* Q4: `logs`\n",
    "  1. Criada pelo próprio time de dados para registar o fluxo de mensagens da arquitetura e facilitar a resolução de possíveis conflitos sobre mensagens não enviadas/entregues.\n",
    "  2. Um time recebe todas as mensagens."
   ]
  },
  {
   "attachments": {},
   "cell_type": "markdown",
   "metadata": {},
   "source": [
    "# Consumidores"
   ]
  },
  {
   "attachments": {},
   "cell_type": "markdown",
   "metadata": {},
   "source": [
    "Com essa arquitetura moderna e flexível diversos consumidores podem consumir informações dos mesmo produtores, sem  depender de intermediários. Alguns consumidores e suas necessidades são:\n",
    "\n",
    "* `C1`: time de projetos\n",
    "  1. Esse consumidor lê da fila `Q1`, ligada à `B1` e demora de 5 a 10 segundos para processar cada mensagem.\n",
    "* `C2`: lideres\n",
    "  1. Esse(s) consumidor(es) lê(em) da(s) fila(s) `Q2`, ligada(s) à(s) `B2` e demora(m) de 2 a 4 segundos para processar cada mensagem.\n",
    "  2. Cada líder deve receber suas mensagens.\n",
    "* `C3`: time de compras\n",
    "  1. Esse consumidor lê da fila `Q3`, ligada à `B3` e demora(m) de 10 a 20 segundos para processar cada mensagem.\n",
    "  2. O mesmo time lê todas as mensagens.\n",
    "* `C4`: time de dados\n",
    "  1. Esse consumidor lê da fila `Q4`, ligada à `B4` e demora(m) de 1 a 20 segundos para processar cada mensagem.\n",
    "  2. O mesmo time lê todas as mensagens.\n",
    "\n",
    "Esse *setup* inicial foi muito bem sucedido e outras equipes mostraram interesse em receber informações dessa maneira. Para evitar a sobrecarga do sistema e de tarefas para o time e aumentar a flexibilidade e tempo de desenvolvimento, ficou decidido que esses consumidores receberiam as mensagens em filas temporárias.\n",
    "\n",
    "* `C5`: time de eventos\n",
    "  1. Recebe todas as mensagens do *exchange: fanout* e publica um email automatizado sobre essas informações para o restante da empresa. \n",
    "* `C6`: time de experiência\n",
    "  1. Recebe e analisa todas as mensagens de prioridade alta.\n",
    "* `C7`: time de plataformas\n",
    "  1. Recebe e analisa todas as mensagens de TI, as movimentações do RH e todas as mensagens de Sales."
   ]
  },
  {
   "cell_type": "code",
   "execution_count": null,
   "metadata": {},
   "outputs": [],
   "source": []
  },
  {
   "attachments": {},
   "cell_type": "markdown",
   "metadata": {},
   "source": [
    "# Preparação"
   ]
  },
  {
   "attachments": {},
   "cell_type": "markdown",
   "metadata": {},
   "source": [
    "Faça um diagrama esquemático da arquitetura apresentada acima."
   ]
  },
  {
   "attachments": {},
   "cell_type": "markdown",
   "metadata": {},
   "source": [
    "[diagrama_exercicio]()"
   ]
  },
  {
   "attachments": {},
   "cell_type": "markdown",
   "metadata": {},
   "source": [
    "# Exemplo guiado"
   ]
  },
  {
   "attachments": {},
   "cell_type": "markdown",
   "metadata": {},
   "source": [
    "1. Crie o produtor `P1`, o exchange `E3`, a fila `Q1` e o binding `B1`, nessa ordem.\n",
    "2. Execute o produtor.\n",
    "3. Crie o consumer `C1`.\n",
    "\n",
    "**Pergunta**: A partir de qual mensagem ele começou a consumir?\n",
    "\n",
    "4. Derrube `C1` e inicie novamente após alguns instantes.\n",
    "\n",
    "**Pergunta**: Ele está consumindo da última mensagem enviada ou a partir de onde havia parado?"
   ]
  },
  {
   "attachments": {},
   "cell_type": "markdown",
   "metadata": {},
   "source": [
    "# Tarefas"
   ]
  },
  {
   "attachments": {},
   "cell_type": "markdown",
   "metadata": {},
   "source": [
    "1. Crie os três exchanges. Use os arquivos disponibilizados como guia.\n",
    "2. Crie os quatro produtores. Use os arquivos disponibilizados como guia e note que o tempo entre uma mensagem e outra é aleatório.\n",
    "\n",
    "**Pergunta**: Com a primeira parte da arquitetura finalizada, somos capazes de gerar e distribuir mensagens. Dispare algumas delas a partir de cada produtor. Recebeu algum erro? Para onde foram as enviadas as mensagens geradas dessa forma?\n",
    "\n",
    "\n",
    "3. Crie as filas que são parte da arquitetura, mas não faça as ligações por enquanto.\n",
    "\n",
    "**Pergunta**: Uma única fila com cada label (`Q1`, `Q2`, `Q3` e `Q4`) são suficientes para atender a demanda dos respectivos consumidores?\n",
    "\n",
    "**Pergunta**: Crie e envie algumas mensagens. Elas chegaram às filas? Verifique via CLI ou UI.\n",
    "\n",
    "4. Crie as ligações apropriadas (`B1` a `B4`) para cada uma das filas. \n",
    "\n",
    "**Pergunta**: Crie e envie algumas mensagens. Elas chegaram às filas? Verifique via CLI ou UI.\n",
    "\n",
    "5. Crie o(s) consumidor(es) `C2` (lideres). \n",
    "\n",
    "6. Crie um consumidor `C3` (compras). \n",
    "\n",
    "7. Crie um consumidor `C4` (dados). \n",
    "\n",
    "8. Ajuste os quatro produtores para mandar 10_000 mensagens e coloque-os para trabalhar. Certifique-se que todas as mensagens chegam aos consumidores corretos.\n",
    "\n",
    "9. Crie os consumidores `C5` a `C7` com suas respectivas filas e ligações temporárias.\n",
    "\n",
    "10. Ligue todos os consumidores e certifique-se que cada um deles recebe as mensganes que deveria."
   ]
  },
  {
   "attachments": {},
   "cell_type": "markdown",
   "metadata": {},
   "source": [
    "# Extras"
   ]
  },
  {
   "attachments": {},
   "cell_type": "markdown",
   "metadata": {},
   "source": [
    "***Em desenvolvimento***"
   ]
  }
 ],
 "metadata": {
  "kernelspec": {
   "display_name": "Python 3",
   "language": "python",
   "name": "python3"
  },
  "language_info": {
   "codemirror_mode": {
    "name": "ipython",
    "version": 3
   },
   "file_extension": ".py",
   "mimetype": "text/x-python",
   "name": "python",
   "nbconvert_exporter": "python",
   "pygments_lexer": "ipython3",
   "version": "3.9.13"
  },
  "orig_nbformat": 4
 },
 "nbformat": 4,
 "nbformat_minor": 2
}
